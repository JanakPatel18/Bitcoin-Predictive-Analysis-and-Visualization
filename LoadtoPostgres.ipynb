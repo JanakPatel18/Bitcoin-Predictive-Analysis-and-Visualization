{
 "cells": [
  {
   "cell_type": "code",
   "execution_count": 1,
   "id": "b964a19b",
   "metadata": {},
   "outputs": [
    {
     "name": "stdout",
     "output_type": "stream",
     "text": [
      "Requirement already satisfied: psycopg2 in c:\\users\\uttam\\anaconda3\\envs\\mlenv\\lib\\site-packages (2.9.3)\n",
      "Note: you may need to restart the kernel to use updated packages.\n"
     ]
    }
   ],
   "source": [
    "pip install psycopg2\n"
   ]
  },
  {
   "cell_type": "code",
   "execution_count": 30,
   "id": "b1a84176",
   "metadata": {},
   "outputs": [],
   "source": [
    "import psycopg2\n",
    "import pandas as pd"
   ]
  },
  {
   "cell_type": "code",
   "execution_count": 31,
   "id": "4fa94a23",
   "metadata": {},
   "outputs": [],
   "source": [
    "conn = psycopg2.connect(database=\"CRYPTO\",\n",
    "                        user='postgres', password='WelcomE01', \n",
    "                        host='127.0.0.1', port='5432'\n",
    ")\n",
    "  \n",
    "conn.autocommit = True\n",
    "cursor = conn.cursor()"
   ]
  },
  {
   "cell_type": "code",
   "execution_count": 15,
   "id": "50fa3a29",
   "metadata": {},
   "outputs": [],
   "source": [
    "sql = '''CREATE TABLE CRYPO_DATA_FEED (\n",
    "TimeStamp\tbigint NOT NULL,\n",
    "Open  \t\tNUMERIC(8,2),\n",
    "High \t\tNUMERIC(8,2),\n",
    "Low\t \t\tNUMERIC(8,2),\n",
    "Close\t\tNUMERIC(8,2),\n",
    "Volume_BTC Float,\n",
    "Volume_Crrency Float,\n",
    "Weightted_Price float,\n",
    "\tPRIMARY KEY (TimeStamp)\n",
    ");'''"
   ]
  },
  {
   "cell_type": "code",
   "execution_count": 16,
   "id": "18974e7e",
   "metadata": {},
   "outputs": [],
   "source": [
    "cursor.execute(sql)"
   ]
  },
  {
   "cell_type": "code",
   "execution_count": 10,
   "id": "911bc329",
   "metadata": {},
   "outputs": [],
   "source": [
    "csv_file_name = 'bitstampUSD_1-min_data_2012-01-01_to_2021-03-31.csv'\n",
    "\n",
    "sql = \"COPY CRYPO_DATA_FEED FROM STDIN DELIMITER ',' CSV HEADER\"\n",
    "\n",
    "cursor.copy_expert(sql, open(csv_file_name, \"r\"))\n"
   ]
  },
  {
   "cell_type": "code",
   "execution_count": 32,
   "id": "4d2620fd",
   "metadata": {},
   "outputs": [],
   "source": [
    "dataFrame       = pd.read_sql(\"select * from CRYPO_DATA_FEED limit 10\", conn);"
   ]
  },
  {
   "cell_type": "code",
   "execution_count": 34,
   "id": "34774c4b",
   "metadata": {},
   "outputs": [
    {
     "data": {
      "text/html": [
       "<div>\n",
       "<style scoped>\n",
       "    .dataframe tbody tr th:only-of-type {\n",
       "        vertical-align: middle;\n",
       "    }\n",
       "\n",
       "    .dataframe tbody tr th {\n",
       "        vertical-align: top;\n",
       "    }\n",
       "\n",
       "    .dataframe thead th {\n",
       "        text-align: right;\n",
       "    }\n",
       "</style>\n",
       "<table border=\"1\" class=\"dataframe\">\n",
       "  <thead>\n",
       "    <tr style=\"text-align: right;\">\n",
       "      <th></th>\n",
       "      <th>timestamp</th>\n",
       "      <th>open</th>\n",
       "      <th>high</th>\n",
       "      <th>low</th>\n",
       "      <th>close</th>\n",
       "      <th>volume_btc</th>\n",
       "      <th>volume_crrency</th>\n",
       "      <th>weightted_price</th>\n",
       "    </tr>\n",
       "  </thead>\n",
       "  <tbody>\n",
       "    <tr>\n",
       "      <th>0</th>\n",
       "      <td>1325317920</td>\n",
       "      <td>4.39</td>\n",
       "      <td>4.39</td>\n",
       "      <td>4.39</td>\n",
       "      <td>4.39</td>\n",
       "      <td>0.455581</td>\n",
       "      <td>2.0</td>\n",
       "      <td>4.39</td>\n",
       "    </tr>\n",
       "    <tr>\n",
       "      <th>1</th>\n",
       "      <td>1325317980</td>\n",
       "      <td>NaN</td>\n",
       "      <td>NaN</td>\n",
       "      <td>NaN</td>\n",
       "      <td>NaN</td>\n",
       "      <td>NaN</td>\n",
       "      <td>NaN</td>\n",
       "      <td>NaN</td>\n",
       "    </tr>\n",
       "    <tr>\n",
       "      <th>2</th>\n",
       "      <td>1325318040</td>\n",
       "      <td>NaN</td>\n",
       "      <td>NaN</td>\n",
       "      <td>NaN</td>\n",
       "      <td>NaN</td>\n",
       "      <td>NaN</td>\n",
       "      <td>NaN</td>\n",
       "      <td>NaN</td>\n",
       "    </tr>\n",
       "    <tr>\n",
       "      <th>3</th>\n",
       "      <td>1325318100</td>\n",
       "      <td>NaN</td>\n",
       "      <td>NaN</td>\n",
       "      <td>NaN</td>\n",
       "      <td>NaN</td>\n",
       "      <td>NaN</td>\n",
       "      <td>NaN</td>\n",
       "      <td>NaN</td>\n",
       "    </tr>\n",
       "    <tr>\n",
       "      <th>4</th>\n",
       "      <td>1325318160</td>\n",
       "      <td>NaN</td>\n",
       "      <td>NaN</td>\n",
       "      <td>NaN</td>\n",
       "      <td>NaN</td>\n",
       "      <td>NaN</td>\n",
       "      <td>NaN</td>\n",
       "      <td>NaN</td>\n",
       "    </tr>\n",
       "  </tbody>\n",
       "</table>\n",
       "</div>"
      ],
      "text/plain": [
       "    timestamp  open  high   low  close  volume_btc  volume_crrency  \\\n",
       "0  1325317920  4.39  4.39  4.39   4.39    0.455581             2.0   \n",
       "1  1325317980   NaN   NaN   NaN    NaN         NaN             NaN   \n",
       "2  1325318040   NaN   NaN   NaN    NaN         NaN             NaN   \n",
       "3  1325318100   NaN   NaN   NaN    NaN         NaN             NaN   \n",
       "4  1325318160   NaN   NaN   NaN    NaN         NaN             NaN   \n",
       "\n",
       "   weightted_price  \n",
       "0             4.39  \n",
       "1              NaN  \n",
       "2              NaN  \n",
       "3              NaN  \n",
       "4              NaN  "
      ]
     },
     "execution_count": 34,
     "metadata": {},
     "output_type": "execute_result"
    }
   ],
   "source": [
    "dataFrame.head()"
   ]
  }
 ],
 "metadata": {
  "kernelspec": {
   "display_name": "Python (mlenv)",
   "language": "python",
   "name": "mlenv"
  },
  "language_info": {
   "codemirror_mode": {
    "name": "ipython",
    "version": 3
   },
   "file_extension": ".py",
   "mimetype": "text/x-python",
   "name": "python",
   "nbconvert_exporter": "python",
   "pygments_lexer": "ipython3",
   "version": "3.7.11"
  }
 },
 "nbformat": 4,
 "nbformat_minor": 5
}
